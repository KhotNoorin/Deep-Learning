{
  "nbformat": 4,
  "nbformat_minor": 0,
  "metadata": {
    "colab": {
      "provenance": [],
      "gpuType": "T4",
      "authorship_tag": "ABX9TyMn0Gse9Qy2MoYv8QvET6h8",
      "include_colab_link": true
    },
    "kernelspec": {
      "name": "python3",
      "display_name": "Python 3"
    },
    "language_info": {
      "name": "python"
    },
    "accelerator": "GPU"
  },
  "cells": [
    {
      "cell_type": "markdown",
      "metadata": {
        "id": "view-in-github",
        "colab_type": "text"
      },
      "source": [
        "<a href=\"https://colab.research.google.com/github/KhotNoorin/Deep-Learning-Notes/blob/main/Multi_Layer_Perceptron.ipynb\" target=\"_parent\"><img src=\"https://colab.research.google.com/assets/colab-badge.svg\" alt=\"Open In Colab\"/></a>"
      ]
    },
    {
      "cell_type": "markdown",
      "source": [
        "# Multi-Layer Perceptron (MLP):\n",
        "\n",
        "\n",
        "## 1. Introduction\n",
        "\n",
        "- A Multi-Layer Perceptron (MLP) is a class of feedforward artificial neural networks.\n",
        "- It consists of an input layer, one or more hidden layers, and an output layer.\n",
        "- Each neuron in one layer is connected to every neuron in the next layer (fully connected).\n",
        "- MLPs are used for tasks like classification, regression, and more.\n",
        "- They are the fundamental architecture behind most deep learning models.\n",
        "\n",
        "---\n",
        "\n",
        "## 2. MLP Architecture\n",
        "\n",
        "- **Input Layer**: Takes the feature vector as input.\n",
        "- **Hidden Layers**: One or more layers that apply transformations via weights and biases.\n",
        "- **Output Layer**: Produces the final prediction (class label, probability, or value).\n",
        "\n",
        "---\n",
        "\n",
        "## 3. Forward Propagation\n",
        "\n",
        "The output of a neuron is computed as:\n",
        "\n",
        "- \\( z = w_1x_1 + w_2x_2 + ... + w_nx_n + b \\)\n",
        "\n",
        "\n",
        "Where:\n",
        "- \\( x_i \\): Input features\n",
        "- \\( w_i \\): Weights\n",
        "- \\( b \\): Bias\n",
        "- \\( a \\): Output after activation function\n",
        "\n",
        "---\n",
        "\n",
        "## 4. Activation Functions\n",
        "\n",
        "- **ReLU (Rectified Linear Unit)**: \\( f(x) = \\max(0, x) \\)\n",
        "- **Sigmoid**: \\( f(x) = \\frac{1}{1 + e^{-x}} \\)\n",
        "- **Tanh**: \\( f(x) = \\frac{e^x - e^{-x}}{e^x + e^{-x}} \\)\n",
        "- **Softmax**: Converts output into class probabilities (used in multiclass classification)\n",
        "\n",
        "---\n",
        "\n",
        "## 5. Backpropagation\n",
        "\n",
        "- Backpropagation is the training algorithm used in MLPs.\n",
        "- It uses the chain rule to compute the gradient of the loss with respect to each weight.\n",
        "- Weights are updated using gradient descent\n",
        "\n",
        "---\n",
        "\n",
        "## 6. Loss Functions\n",
        "\n",
        "- **Mean Squared Error (MSE)**: For regression\n",
        "- **Binary Cross-Entropy**: For binary classification\n",
        "- **Categorical Cross-Entropy**: For multiclass classification\n",
        "\n",
        "---\n",
        "\n",
        "## 7. MLP vs Perceptron\n",
        "\n",
        "| Feature             | Perceptron             | Multi-Layer Perceptron (MLP)   |\n",
        "|---------------------|------------------------|--------------------------------|\n",
        "| Layers              | Single layer           | Multiple layers                |\n",
        "| Non-linearity       | No                     | Yes                            |\n",
        "| Learning Rule       | Perceptron Algorithm   | Backpropagation                |\n",
        "| Activation          | Step Function          | ReLU, Sigmoid, Tanh, etc.      |\n",
        "| Capability          | Linear problems only   | Non-linear problems            |\n",
        "\n",
        "---\n",
        "\n",
        "## 8. Applications\n",
        "\n",
        "- Handwritten digit recognition (e.g., MNIST)\n",
        "- Spam and sentiment classification\n",
        "- Stock price prediction\n",
        "- Disease detection and diagnosis\n",
        "- Image and voice recognition\n",
        "\n",
        "---\n",
        "\n",
        "## 9. Advantages\n",
        "\n",
        "- Capable of learning non-linear relationships\n",
        "- Can approximate any continuous function\n",
        "- Versatile across various domains\n",
        "\n",
        "---\n",
        "\n",
        "## 10. Limitations\n",
        "\n",
        "- Prone to overfitting if not regularized\n",
        "- Requires large datasets and computational resources\n",
        "- Sensitive to hyperparameters\n",
        "\n",
        "---\n"
      ],
      "metadata": {
        "id": "maUjpKGOx6Gr"
      }
    },
    {
      "cell_type": "code",
      "execution_count": 16,
      "metadata": {
        "id": "fPoP1TD2xkWC"
      },
      "outputs": [],
      "source": [
        "from sklearn.datasets import load_iris\n",
        "from sklearn.model_selection import train_test_split\n",
        "from sklearn.preprocessing import StandardScaler, LabelBinarizer\n",
        "from tensorflow.keras.models import Sequential\n",
        "from tensorflow.keras.layers import Dense\n",
        "from tensorflow.keras.utils import to_categorical"
      ]
    },
    {
      "cell_type": "code",
      "source": [
        "iris = load_iris()\n",
        "X = iris.data\n",
        "y = iris.target"
      ],
      "metadata": {
        "id": "wMZ2NPp10f9v"
      },
      "execution_count": 17,
      "outputs": []
    },
    {
      "cell_type": "code",
      "source": [
        "# One-hot encode target\n",
        "y = to_categorical(y)"
      ],
      "metadata": {
        "id": "pD97neQj0lWb"
      },
      "execution_count": 18,
      "outputs": []
    },
    {
      "cell_type": "code",
      "source": [
        "X_train, X_test, y_train, y_test = train_test_split(X, y, test_size=0.2, random_state=42)"
      ],
      "metadata": {
        "id": "JdzCqKvC02ae"
      },
      "execution_count": 19,
      "outputs": []
    },
    {
      "cell_type": "code",
      "source": [
        "# Feature scaling\n",
        "scaler = StandardScaler()\n",
        "X_train = scaler.fit_transform(X_train)\n",
        "X_test = scaler.transform(X_test)"
      ],
      "metadata": {
        "id": "QFHk0tjB04UG"
      },
      "execution_count": 20,
      "outputs": []
    },
    {
      "cell_type": "code",
      "source": [
        "# MLP model\n",
        "model = Sequential([\n",
        "    Dense(16, activation='relu', input_shape=(4,)),\n",
        "    Dense(12, activation='relu'),\n",
        "    Dense(3, activation='softmax')  # 3 classes\n",
        "])"
      ],
      "metadata": {
        "colab": {
          "base_uri": "https://localhost:8080/"
        },
        "id": "1RmtYyOP07Vu",
        "outputId": "8b534c0e-41a8-4ae6-d72c-2a5867e65d32"
      },
      "execution_count": 21,
      "outputs": [
        {
          "output_type": "stream",
          "name": "stderr",
          "text": [
            "/usr/local/lib/python3.11/dist-packages/keras/src/layers/core/dense.py:87: UserWarning: Do not pass an `input_shape`/`input_dim` argument to a layer. When using Sequential models, prefer using an `Input(shape)` object as the first layer in the model instead.\n",
            "  super().__init__(activity_regularizer=activity_regularizer, **kwargs)\n"
          ]
        }
      ]
    },
    {
      "cell_type": "code",
      "source": [
        "model.compile(optimizer='adam', loss='categorical_crossentropy', metrics=['accuracy'])"
      ],
      "metadata": {
        "id": "fIKaRUND09Cl"
      },
      "execution_count": 22,
      "outputs": []
    },
    {
      "cell_type": "code",
      "source": [
        "model.fit(X_train, y_train, epochs=50, validation_split=0.2)"
      ],
      "metadata": {
        "colab": {
          "base_uri": "https://localhost:8080/"
        },
        "id": "u4joaag30_lu",
        "outputId": "a9af52e3-fd11-4ddb-e905-f0b11f1c7780"
      },
      "execution_count": 23,
      "outputs": [
        {
          "output_type": "stream",
          "name": "stdout",
          "text": [
            "Epoch 1/50\n",
            "\u001b[1m3/3\u001b[0m \u001b[32m━━━━━━━━━━━━━━━━━━━━\u001b[0m\u001b[37m\u001b[0m \u001b[1m2s\u001b[0m 247ms/step - accuracy: 0.6419 - loss: 0.9604 - val_accuracy: 0.7083 - val_loss: 0.8983\n",
            "Epoch 2/50\n",
            "\u001b[1m3/3\u001b[0m \u001b[32m━━━━━━━━━━━━━━━━━━━━\u001b[0m\u001b[37m\u001b[0m \u001b[1m0s\u001b[0m 28ms/step - accuracy: 0.6380 - loss: 0.9475 - val_accuracy: 0.7083 - val_loss: 0.8814\n",
            "Epoch 3/50\n",
            "\u001b[1m3/3\u001b[0m \u001b[32m━━━━━━━━━━━━━━━━━━━━\u001b[0m\u001b[37m\u001b[0m \u001b[1m0s\u001b[0m 33ms/step - accuracy: 0.6380 - loss: 0.9310 - val_accuracy: 0.7083 - val_loss: 0.8646\n",
            "Epoch 4/50\n",
            "\u001b[1m3/3\u001b[0m \u001b[32m━━━━━━━━━━━━━━━━━━━━\u001b[0m\u001b[37m\u001b[0m \u001b[1m0s\u001b[0m 30ms/step - accuracy: 0.6497 - loss: 0.9011 - val_accuracy: 0.7083 - val_loss: 0.8477\n",
            "Epoch 5/50\n",
            "\u001b[1m3/3\u001b[0m \u001b[32m━━━━━━━━━━━━━━━━━━━━\u001b[0m\u001b[37m\u001b[0m \u001b[1m0s\u001b[0m 26ms/step - accuracy: 0.6732 - loss: 0.8788 - val_accuracy: 0.7083 - val_loss: 0.8313\n",
            "Epoch 6/50\n",
            "\u001b[1m3/3\u001b[0m \u001b[32m━━━━━━━━━━━━━━━━━━━━\u001b[0m\u001b[37m\u001b[0m \u001b[1m0s\u001b[0m 26ms/step - accuracy: 0.7057 - loss: 0.8491 - val_accuracy: 0.7083 - val_loss: 0.8149\n",
            "Epoch 7/50\n",
            "\u001b[1m3/3\u001b[0m \u001b[32m━━━━━━━━━━━━━━━━━━━━\u001b[0m\u001b[37m\u001b[0m \u001b[1m0s\u001b[0m 26ms/step - accuracy: 0.6706 - loss: 0.8507 - val_accuracy: 0.7083 - val_loss: 0.7989\n",
            "Epoch 8/50\n",
            "\u001b[1m3/3\u001b[0m \u001b[32m━━━━━━━━━━━━━━━━━━━━\u001b[0m\u001b[37m\u001b[0m \u001b[1m0s\u001b[0m 28ms/step - accuracy: 0.6784 - loss: 0.8198 - val_accuracy: 0.7083 - val_loss: 0.7830\n",
            "Epoch 9/50\n",
            "\u001b[1m3/3\u001b[0m \u001b[32m━━━━━━━━━━━━━━━━━━━━\u001b[0m\u001b[37m\u001b[0m \u001b[1m0s\u001b[0m 29ms/step - accuracy: 0.7135 - loss: 0.7779 - val_accuracy: 0.7083 - val_loss: 0.7674\n",
            "Epoch 10/50\n",
            "\u001b[1m3/3\u001b[0m \u001b[32m━━━━━━━━━━━━━━━━━━━━\u001b[0m\u001b[37m\u001b[0m \u001b[1m0s\u001b[0m 58ms/step - accuracy: 0.6719 - loss: 0.7970 - val_accuracy: 0.7083 - val_loss: 0.7531\n",
            "Epoch 11/50\n",
            "\u001b[1m3/3\u001b[0m \u001b[32m━━━━━━━━━━━━━━━━━━━━\u001b[0m\u001b[37m\u001b[0m \u001b[1m0s\u001b[0m 56ms/step - accuracy: 0.6914 - loss: 0.7772 - val_accuracy: 0.7083 - val_loss: 0.7390\n",
            "Epoch 12/50\n",
            "\u001b[1m3/3\u001b[0m \u001b[32m━━━━━━━━━━━━━━━━━━━━\u001b[0m\u001b[37m\u001b[0m \u001b[1m0s\u001b[0m 42ms/step - accuracy: 0.6914 - loss: 0.7574 - val_accuracy: 0.7083 - val_loss: 0.7250\n",
            "Epoch 13/50\n",
            "\u001b[1m3/3\u001b[0m \u001b[32m━━━━━━━━━━━━━━━━━━━━\u001b[0m\u001b[37m\u001b[0m \u001b[1m0s\u001b[0m 55ms/step - accuracy: 0.7109 - loss: 0.7268 - val_accuracy: 0.7083 - val_loss: 0.7110\n",
            "Epoch 14/50\n",
            "\u001b[1m3/3\u001b[0m \u001b[32m━━━━━━━━━━━━━━━━━━━━\u001b[0m\u001b[37m\u001b[0m \u001b[1m0s\u001b[0m 55ms/step - accuracy: 0.6758 - loss: 0.7249 - val_accuracy: 0.7083 - val_loss: 0.6980\n",
            "Epoch 15/50\n",
            "\u001b[1m3/3\u001b[0m \u001b[32m━━━━━━━━━━━━━━━━━━━━\u001b[0m\u001b[37m\u001b[0m \u001b[1m0s\u001b[0m 57ms/step - accuracy: 0.6328 - loss: 0.7320 - val_accuracy: 0.7083 - val_loss: 0.6854\n",
            "Epoch 16/50\n",
            "\u001b[1m3/3\u001b[0m \u001b[32m━━━━━━━━━━━━━━━━━━━━\u001b[0m\u001b[37m\u001b[0m \u001b[1m0s\u001b[0m 39ms/step - accuracy: 0.6641 - loss: 0.7015 - val_accuracy: 0.7083 - val_loss: 0.6728\n",
            "Epoch 17/50\n",
            "\u001b[1m3/3\u001b[0m \u001b[32m━━━━━━━━━━━━━━━━━━━━\u001b[0m\u001b[37m\u001b[0m \u001b[1m0s\u001b[0m 45ms/step - accuracy: 0.6641 - loss: 0.6734 - val_accuracy: 0.7083 - val_loss: 0.6604\n",
            "Epoch 18/50\n",
            "\u001b[1m3/3\u001b[0m \u001b[32m━━━━━━━━━━━━━━━━━━━━\u001b[0m\u001b[37m\u001b[0m \u001b[1m0s\u001b[0m 59ms/step - accuracy: 0.7031 - loss: 0.6493 - val_accuracy: 0.7083 - val_loss: 0.6482\n",
            "Epoch 19/50\n",
            "\u001b[1m3/3\u001b[0m \u001b[32m━━━━━━━━━━━━━━━━━━━━\u001b[0m\u001b[37m\u001b[0m \u001b[1m0s\u001b[0m 33ms/step - accuracy: 0.6719 - loss: 0.6532 - val_accuracy: 0.7083 - val_loss: 0.6370\n",
            "Epoch 20/50\n",
            "\u001b[1m3/3\u001b[0m \u001b[32m━━━━━━━━━━━━━━━━━━━━\u001b[0m\u001b[37m\u001b[0m \u001b[1m0s\u001b[0m 26ms/step - accuracy: 0.6823 - loss: 0.6393 - val_accuracy: 0.7083 - val_loss: 0.6262\n",
            "Epoch 21/50\n",
            "\u001b[1m3/3\u001b[0m \u001b[32m━━━━━━━━━━━━━━━━━━━━\u001b[0m\u001b[37m\u001b[0m \u001b[1m0s\u001b[0m 29ms/step - accuracy: 0.7135 - loss: 0.6018 - val_accuracy: 0.6667 - val_loss: 0.6159\n",
            "Epoch 22/50\n",
            "\u001b[1m3/3\u001b[0m \u001b[32m━━━━━━━━━━━━━━━━━━━━\u001b[0m\u001b[37m\u001b[0m \u001b[1m0s\u001b[0m 28ms/step - accuracy: 0.7669 - loss: 0.5692 - val_accuracy: 0.6667 - val_loss: 0.6058\n",
            "Epoch 23/50\n",
            "\u001b[1m3/3\u001b[0m \u001b[32m━━━━━━━━━━━━━━━━━━━━\u001b[0m\u001b[37m\u001b[0m \u001b[1m0s\u001b[0m 27ms/step - accuracy: 0.7188 - loss: 0.6152 - val_accuracy: 0.6667 - val_loss: 0.5964\n",
            "Epoch 24/50\n",
            "\u001b[1m3/3\u001b[0m \u001b[32m━━━━━━━━━━━━━━━━━━━━\u001b[0m\u001b[37m\u001b[0m \u001b[1m0s\u001b[0m 28ms/step - accuracy: 0.7422 - loss: 0.5883 - val_accuracy: 0.6667 - val_loss: 0.5875\n",
            "Epoch 25/50\n",
            "\u001b[1m3/3\u001b[0m \u001b[32m━━━━━━━━━━━━━━━━━━━━\u001b[0m\u001b[37m\u001b[0m \u001b[1m0s\u001b[0m 28ms/step - accuracy: 0.7383 - loss: 0.5767 - val_accuracy: 0.6667 - val_loss: 0.5789\n",
            "Epoch 26/50\n",
            "\u001b[1m3/3\u001b[0m \u001b[32m━━━━━━━━━━━━━━━━━━━━\u001b[0m\u001b[37m\u001b[0m \u001b[1m0s\u001b[0m 29ms/step - accuracy: 0.7617 - loss: 0.5411 - val_accuracy: 0.6667 - val_loss: 0.5706\n",
            "Epoch 27/50\n",
            "\u001b[1m3/3\u001b[0m \u001b[32m━━━━━━━━━━━━━━━━━━━━\u001b[0m\u001b[37m\u001b[0m \u001b[1m0s\u001b[0m 28ms/step - accuracy: 0.7826 - loss: 0.5461 - val_accuracy: 0.6667 - val_loss: 0.5627\n",
            "Epoch 28/50\n",
            "\u001b[1m3/3\u001b[0m \u001b[32m━━━━━━━━━━━━━━━━━━━━\u001b[0m\u001b[37m\u001b[0m \u001b[1m0s\u001b[0m 26ms/step - accuracy: 0.7878 - loss: 0.5180 - val_accuracy: 0.6667 - val_loss: 0.5555\n",
            "Epoch 29/50\n",
            "\u001b[1m3/3\u001b[0m \u001b[32m━━━━━━━━━━━━━━━━━━━━\u001b[0m\u001b[37m\u001b[0m \u001b[1m0s\u001b[0m 27ms/step - accuracy: 0.7695 - loss: 0.5536 - val_accuracy: 0.6667 - val_loss: 0.5488\n",
            "Epoch 30/50\n",
            "\u001b[1m3/3\u001b[0m \u001b[32m━━━━━━━━━━━━━━━━━━━━\u001b[0m\u001b[37m\u001b[0m \u001b[1m0s\u001b[0m 26ms/step - accuracy: 0.7826 - loss: 0.5347 - val_accuracy: 0.6667 - val_loss: 0.5425\n",
            "Epoch 31/50\n",
            "\u001b[1m3/3\u001b[0m \u001b[32m━━━━━━━━━━━━━━━━━━━━\u001b[0m\u001b[37m\u001b[0m \u001b[1m0s\u001b[0m 47ms/step - accuracy: 0.7904 - loss: 0.5439 - val_accuracy: 0.6667 - val_loss: 0.5366\n",
            "Epoch 32/50\n",
            "\u001b[1m3/3\u001b[0m \u001b[32m━━━━━━━━━━━━━━━━━━━━\u001b[0m\u001b[37m\u001b[0m \u001b[1m0s\u001b[0m 63ms/step - accuracy: 0.8138 - loss: 0.5141 - val_accuracy: 0.7083 - val_loss: 0.5307\n",
            "Epoch 33/50\n",
            "\u001b[1m3/3\u001b[0m \u001b[32m━━━━━━━━━━━━━━━━━━━━\u001b[0m\u001b[37m\u001b[0m \u001b[1m0s\u001b[0m 60ms/step - accuracy: 0.7604 - loss: 0.5120 - val_accuracy: 0.7500 - val_loss: 0.5255\n",
            "Epoch 34/50\n",
            "\u001b[1m3/3\u001b[0m \u001b[32m━━━━━━━━━━━━━━━━━━━━\u001b[0m\u001b[37m\u001b[0m \u001b[1m0s\u001b[0m 63ms/step - accuracy: 0.7682 - loss: 0.5440 - val_accuracy: 0.7500 - val_loss: 0.5204\n",
            "Epoch 35/50\n",
            "\u001b[1m3/3\u001b[0m \u001b[32m━━━━━━━━━━━━━━━━━━━━\u001b[0m\u001b[37m\u001b[0m \u001b[1m0s\u001b[0m 61ms/step - accuracy: 0.7839 - loss: 0.4845 - val_accuracy: 0.7500 - val_loss: 0.5154\n",
            "Epoch 36/50\n",
            "\u001b[1m3/3\u001b[0m \u001b[32m━━━━━━━━━━━━━━━━━━━━\u001b[0m\u001b[37m\u001b[0m \u001b[1m0s\u001b[0m 28ms/step - accuracy: 0.8125 - loss: 0.4702 - val_accuracy: 0.7500 - val_loss: 0.5106\n",
            "Epoch 37/50\n",
            "\u001b[1m3/3\u001b[0m \u001b[32m━━━━━━━━━━━━━━━━━━━━\u001b[0m\u001b[37m\u001b[0m \u001b[1m0s\u001b[0m 27ms/step - accuracy: 0.7891 - loss: 0.4838 - val_accuracy: 0.7500 - val_loss: 0.5056\n",
            "Epoch 38/50\n",
            "\u001b[1m3/3\u001b[0m \u001b[32m━━━━━━━━━━━━━━━━━━━━\u001b[0m\u001b[37m\u001b[0m \u001b[1m0s\u001b[0m 27ms/step - accuracy: 0.8086 - loss: 0.4650 - val_accuracy: 0.7500 - val_loss: 0.5012\n",
            "Epoch 39/50\n",
            "\u001b[1m3/3\u001b[0m \u001b[32m━━━━━━━━━━━━━━━━━━━━\u001b[0m\u001b[37m\u001b[0m \u001b[1m0s\u001b[0m 28ms/step - accuracy: 0.8086 - loss: 0.4652 - val_accuracy: 0.7500 - val_loss: 0.4970\n",
            "Epoch 40/50\n",
            "\u001b[1m3/3\u001b[0m \u001b[32m━━━━━━━━━━━━━━━━━━━━\u001b[0m\u001b[37m\u001b[0m \u001b[1m0s\u001b[0m 27ms/step - accuracy: 0.7852 - loss: 0.4789 - val_accuracy: 0.7917 - val_loss: 0.4930\n",
            "Epoch 41/50\n",
            "\u001b[1m3/3\u001b[0m \u001b[32m━━━━━━━━━━━━━━━━━━━━\u001b[0m\u001b[37m\u001b[0m \u001b[1m0s\u001b[0m 27ms/step - accuracy: 0.8372 - loss: 0.4615 - val_accuracy: 0.7917 - val_loss: 0.4890\n",
            "Epoch 42/50\n",
            "\u001b[1m3/3\u001b[0m \u001b[32m━━━━━━━━━━━━━━━━━━━━\u001b[0m\u001b[37m\u001b[0m \u001b[1m0s\u001b[0m 31ms/step - accuracy: 0.8490 - loss: 0.4222 - val_accuracy: 0.7917 - val_loss: 0.4846\n",
            "Epoch 43/50\n",
            "\u001b[1m3/3\u001b[0m \u001b[32m━━━━━━━━━━━━━━━━━━━━\u001b[0m\u001b[37m\u001b[0m \u001b[1m0s\u001b[0m 27ms/step - accuracy: 0.8385 - loss: 0.4321 - val_accuracy: 0.7917 - val_loss: 0.4802\n",
            "Epoch 44/50\n",
            "\u001b[1m3/3\u001b[0m \u001b[32m━━━━━━━━━━━━━━━━━━━━\u001b[0m\u001b[37m\u001b[0m \u001b[1m0s\u001b[0m 27ms/step - accuracy: 0.8542 - loss: 0.4297 - val_accuracy: 0.7917 - val_loss: 0.4760\n",
            "Epoch 45/50\n",
            "\u001b[1m3/3\u001b[0m \u001b[32m━━━━━━━━━━━━━━━━━━━━\u001b[0m\u001b[37m\u001b[0m \u001b[1m0s\u001b[0m 28ms/step - accuracy: 0.8424 - loss: 0.4051 - val_accuracy: 0.7917 - val_loss: 0.4716\n",
            "Epoch 46/50\n",
            "\u001b[1m3/3\u001b[0m \u001b[32m━━━━━━━━━━━━━━━━━━━━\u001b[0m\u001b[37m\u001b[0m \u001b[1m0s\u001b[0m 27ms/step - accuracy: 0.8698 - loss: 0.3898 - val_accuracy: 0.7917 - val_loss: 0.4676\n",
            "Epoch 47/50\n",
            "\u001b[1m3/3\u001b[0m \u001b[32m━━━━━━━━━━━━━━━━━━━━\u001b[0m\u001b[37m\u001b[0m \u001b[1m0s\u001b[0m 30ms/step - accuracy: 0.8034 - loss: 0.4361 - val_accuracy: 0.7917 - val_loss: 0.4639\n",
            "Epoch 48/50\n",
            "\u001b[1m3/3\u001b[0m \u001b[32m━━━━━━━━━━━━━━━━━━━━\u001b[0m\u001b[37m\u001b[0m \u001b[1m0s\u001b[0m 28ms/step - accuracy: 0.8659 - loss: 0.3955 - val_accuracy: 0.7917 - val_loss: 0.4601\n",
            "Epoch 49/50\n",
            "\u001b[1m3/3\u001b[0m \u001b[32m━━━━━━━━━━━━━━━━━━━━\u001b[0m\u001b[37m\u001b[0m \u001b[1m0s\u001b[0m 26ms/step - accuracy: 0.8672 - loss: 0.4139 - val_accuracy: 0.7917 - val_loss: 0.4567\n",
            "Epoch 50/50\n",
            "\u001b[1m3/3\u001b[0m \u001b[32m━━━━━━━━━━━━━━━━━━━━\u001b[0m\u001b[37m\u001b[0m \u001b[1m0s\u001b[0m 29ms/step - accuracy: 0.8763 - loss: 0.3773 - val_accuracy: 0.7917 - val_loss: 0.4531\n"
          ]
        },
        {
          "output_type": "execute_result",
          "data": {
            "text/plain": [
              "<keras.src.callbacks.history.History at 0x7cc5065fc3d0>"
            ]
          },
          "metadata": {},
          "execution_count": 23
        }
      ]
    },
    {
      "cell_type": "code",
      "source": [
        "loss, acc = model.evaluate(X_test, y_test)\n",
        "print(f\"Test Accuracy: {acc:.4f}\")"
      ],
      "metadata": {
        "colab": {
          "base_uri": "https://localhost:8080/"
        },
        "id": "dzNWFj5v1Cqz",
        "outputId": "e00cf6fa-4f0c-41f4-8f81-efa8ec4399e7"
      },
      "execution_count": 24,
      "outputs": [
        {
          "output_type": "stream",
          "name": "stdout",
          "text": [
            "\u001b[1m1/1\u001b[0m \u001b[32m━━━━━━━━━━━━━━━━━━━━\u001b[0m\u001b[37m\u001b[0m \u001b[1m0s\u001b[0m 193ms/step - accuracy: 0.8333 - loss: 0.3521\n",
            "Test Accuracy: 0.8333\n"
          ]
        }
      ]
    },
    {
      "cell_type": "code",
      "source": [
        "import matplotlib.pyplot as plt"
      ],
      "metadata": {
        "id": "RQTx-x5P1FIe"
      },
      "execution_count": 25,
      "outputs": []
    },
    {
      "cell_type": "code",
      "source": [
        "history = model.fit(X_train, y_train, epochs=50, validation_split=0.2, verbose=0)\n"
      ],
      "metadata": {
        "id": "OHg3xOU-1sdk"
      },
      "execution_count": 26,
      "outputs": []
    },
    {
      "cell_type": "code",
      "source": [
        "plt.figure(figsize=(10,4))"
      ],
      "metadata": {
        "colab": {
          "base_uri": "https://localhost:8080/",
          "height": 52
        },
        "id": "9b0JLRXJ1sWX",
        "outputId": "00a41509-eba0-4c8e-e157-bafe0405d723"
      },
      "execution_count": 27,
      "outputs": [
        {
          "output_type": "execute_result",
          "data": {
            "text/plain": [
              "<Figure size 1000x400 with 0 Axes>"
            ]
          },
          "metadata": {},
          "execution_count": 27
        },
        {
          "output_type": "display_data",
          "data": {
            "text/plain": [
              "<Figure size 1000x400 with 0 Axes>"
            ]
          },
          "metadata": {}
        }
      ]
    },
    {
      "cell_type": "code",
      "source": [
        "plt.subplot(1, 2, 1)\n",
        "plt.plot(history.history['accuracy'], label='Train Accuracy')\n",
        "plt.plot(history.history['val_accuracy'], label='Val Accuracy')\n",
        "plt.title('Model Accuracy over Epochs')\n",
        "plt.xlabel('Epochs')\n",
        "plt.ylabel('Accuracy')\n",
        "plt.legend()"
      ],
      "metadata": {
        "colab": {
          "base_uri": "https://localhost:8080/",
          "height": 489
        },
        "id": "bYLuQR_T10cS",
        "outputId": "49d97df8-2dc5-4daa-88a5-a1ed91037055"
      },
      "execution_count": 28,
      "outputs": [
        {
          "output_type": "execute_result",
          "data": {
            "text/plain": [
              "<matplotlib.legend.Legend at 0x7cc4e0151bd0>"
            ]
          },
          "metadata": {},
          "execution_count": 28
        },
        {
          "output_type": "display_data",
          "data": {
            "text/plain": [
              "<Figure size 640x480 with 1 Axes>"
            ],
            "image/png": "[encoded data removed]"
          },
          "metadata": {}
        }
      ]
    },
    {
      "cell_type": "code",
      "source": [
        "# Plot Loss\n",
        "plt.subplot(1, 2, 2)\n",
        "plt.plot(history.history['loss'], label='Train Loss')\n",
        "plt.plot(history.history['val_loss'], label='Val Loss')\n",
        "plt.title('Model Loss over Epochs')\n",
        "plt.xlabel('Epochs')\n",
        "plt.ylabel('Loss')\n",
        "plt.legend()\n",
        "\n",
        "plt.tight_layout()\n",
        "plt.show()"
      ],
      "metadata": {
        "colab": {
          "base_uri": "https://localhost:8080/",
          "height": 487
        },
        "id": "aWES5ysA14X1",
        "outputId": "597d38de-6ed7-40ac-d233-adeba51feb6c"
      },
      "execution_count": 30,
      "outputs": [
        {
          "output_type": "display_data",
          "data": {
            "text/plain": [
              "<Figure size 640x480 with 1 Axes>"
            ],
            "image/png": "[encoded data removed]"
          },
          "metadata": {}
        }
      ]
    },
    {
      "cell_type": "markdown",
      "source": [
        "# MLP from Scratch"
      ],
      "metadata": {
        "id": "1aIuNV5O1M5d"
      }
    },
    {
      "cell_type": "code",
      "source": [
        "import numpy as np\n",
        "from sklearn.datasets import make_moons\n",
        "from sklearn.model_selection import train_test_split\n",
        "from sklearn.preprocessing import StandardScaler"
      ],
      "metadata": {
        "id": "HD6b74aW1OkC"
      },
      "execution_count": 46,
      "outputs": []
    },
    {
      "cell_type": "code",
      "source": [
        "losses = []  # To store loss at each epoch"
      ],
      "metadata": {
        "id": "4TRdMCBk2fxi"
      },
      "execution_count": 47,
      "outputs": []
    },
    {
      "cell_type": "code",
      "source": [
        "# Sigmoid and derivatives\n",
        "def sigmoid(x): return 1 / (1 + np.exp(-x))\n",
        "def sigmoid_derivative(x): return x * (1 - x)"
      ],
      "metadata": {
        "id": "Sg1M39On1WkX"
      },
      "execution_count": 48,
      "outputs": []
    },
    {
      "cell_type": "code",
      "source": [
        "# Data\n",
        "X, y = make_moons(n_samples=1000, noise=0.2)\n",
        "y = y.reshape(-1, 1)\n",
        "X = StandardScaler().fit_transform(X)\n",
        "X_train, X_test, y_train, y_test = train_test_split(X, y, test_size=0.2)"
      ],
      "metadata": {
        "id": "gy41EEAY1Wev"
      },
      "execution_count": 49,
      "outputs": []
    },
    {
      "cell_type": "code",
      "source": [
        "# Init weights\n",
        "input_dim, hidden_dim, output_dim = 2, 4, 1\n",
        "w1 = np.random.randn(input_dim, hidden_dim)\n",
        "b1 = np.zeros((1, hidden_dim))\n",
        "w2 = np.random.randn(hidden_dim, output_dim)\n",
        "b2 = np.zeros((1, output_dim))"
      ],
      "metadata": {
        "id": "Q-CkAyA81dHH"
      },
      "execution_count": 50,
      "outputs": []
    },
    {
      "cell_type": "code",
      "source": [
        "for epoch in range(10000):\n",
        "    # Forward pass\n",
        "    z1 = X_train.dot(w1) + b1\n",
        "    a1 = sigmoid(z1)\n",
        "    z2 = a1.dot(w2) + b2\n",
        "    a2 = sigmoid(z2)\n",
        "\n",
        "    # Loss calculation\n",
        "    loss = np.mean((y_train - a2) ** 2)\n",
        "    losses.append(loss)\n",
        "\n",
        "    # Backpropagation\n",
        "    d2 = (a2 - y_train) * sigmoid_derivative(a2)\n",
        "    dw2 = a1.T.dot(d2)\n",
        "    db2 = np.sum(d2, axis=0, keepdims=True)\n",
        "\n",
        "    d1 = d2.dot(w2.T) * sigmoid_derivative(a1)\n",
        "    dw1 = X_train.T.dot(d1)\n",
        "    db1 = np.sum(d1, axis=0, keepdims=True)\n",
        "\n",
        "    # Update weights\n",
        "    w1 -= lr * dw1\n",
        "    b1 -= lr * db1\n",
        "    w2 -= lr * dw2\n",
        "    b2 -= lr * db2\n",
        "\n",
        "    if epoch % 1000 == 0:\n",
        "        print(f\"Epoch {epoch}, Loss: {loss:.4f}\")"
      ],
      "metadata": {
        "colab": {
          "base_uri": "https://localhost:8080/"
        },
        "id": "RCihbFHn1dD0",
        "outputId": "03800fe2-c6cb-4dd3-f74b-07df07ac4ee8"
      },
      "execution_count": 51,
      "outputs": [
        {
          "output_type": "stream",
          "name": "stdout",
          "text": [
            "Epoch 0, Loss: 0.2603\n",
            "Epoch 1000, Loss: 0.0900\n",
            "Epoch 2000, Loss: 0.0897\n",
            "Epoch 3000, Loss: 0.0894\n",
            "Epoch 4000, Loss: 0.0892\n",
            "Epoch 5000, Loss: 0.0294\n",
            "Epoch 6000, Loss: 0.0269\n",
            "Epoch 7000, Loss: 0.0265\n",
            "Epoch 8000, Loss: 0.0263\n",
            "Epoch 9000, Loss: 0.0261\n"
          ]
        }
      ]
    },
    {
      "cell_type": "code",
      "source": [
        "# Test accuracy\n",
        "z1 = X_test.dot(w1) + b1\n",
        "a1 = sigmoid(z1)\n",
        "z2 = a1.dot(w2) + b2\n",
        "a2 = sigmoid(z2)\n",
        "preds = (a2 > 0.5).astype(int)\n",
        "accuracy = np.mean(preds == y_test)\n",
        "print(f\"Test Accuracy: {accuracy:.4f}\")\n"
      ],
      "metadata": {
        "colab": {
          "base_uri": "https://localhost:8080/"
        },
        "id": "mrExwJlH1QFF",
        "outputId": "ab882d36-fba9-440e-f7ca-d48891f2deee"
      },
      "execution_count": 52,
      "outputs": [
        {
          "output_type": "stream",
          "name": "stdout",
          "text": [
            "Test Accuracy: 0.9700\n"
          ]
        }
      ]
    },
    {
      "cell_type": "code",
      "source": [
        "import matplotlib.pyplot as plt"
      ],
      "metadata": {
        "id": "uQyjA1QC19zE"
      },
      "execution_count": 53,
      "outputs": []
    },
    {
      "cell_type": "code",
      "source": [
        "plt.plot(range(len(losses)), losses, label='Training Loss')\n",
        "plt.title(\"Training Loss over Epochs\")\n",
        "plt.xlabel(\"Epoch\")\n",
        "plt.ylabel(\"Loss (MSE)\")\n",
        "plt.legend()\n",
        "plt.grid(True)\n",
        "plt.show()"
      ],
      "metadata": {
        "colab": {
          "base_uri": "https://localhost:8080/",
          "height": 472
        },
        "id": "_9YQXWGh2D_l",
        "outputId": "a92b6f90-05cf-471e-a7d4-536e27f97aa5"
      },
      "execution_count": 56,
      "outputs": [
        {
          "output_type": "display_data",
          "data": {
            "text/plain": [
              "<Figure size 640x480 with 1 Axes>"
            ],
            "image/png": "[encoded data removed]"
          },
          "metadata": {}
        }
      ]
    },
    {
      "cell_type": "code",
      "source": [],
      "metadata": {
        "id": "Kmt6NH0y2NVe"
      },
      "execution_count": null,
      "outputs": []
    }
  ]
}