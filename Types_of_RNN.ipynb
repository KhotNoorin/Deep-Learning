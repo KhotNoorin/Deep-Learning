{
  "nbformat": 4,
  "nbformat_minor": 0,
  "metadata": {
    "colab": {
      "provenance": [],
      "gpuType": "T4",
      "authorship_tag": "ABX9TyMrMjDxKt6L99g9Uzdxz8Dp",
      "include_colab_link": true
    },
    "kernelspec": {
      "name": "python3",
      "display_name": "Python 3"
    },
    "language_info": {
      "name": "python"
    },
    "accelerator": "GPU"
  },
  "cells": [
    {
      "cell_type": "markdown",
      "metadata": {
        "id": "view-in-github",
        "colab_type": "text"
      },
      "source": [
        "<a href=\"https://colab.research.google.com/github/KhotNoorin/Deep-Learning/blob/main/Types_of_RNN.ipynb\" target=\"_parent\"><img src=\"https://colab.research.google.com/assets/colab-badge.svg\" alt=\"Open In Colab\"/></a>"
      ]
    },
    {
      "cell_type": "markdown",
      "source": [
        "# RNN Input-Output Architecture Types\n",
        "\n",
        "Recurrent Neural Networks (RNNs) can be categorized based on the format of their input and output sequences. These configurations determine how the model handles different types of sequence data.\n",
        "\n",
        "---\n",
        "\n",
        "## 1. One-to-One\n",
        "- **Description:** Standard neural network (not truly RNN).\n",
        "- **Input:** Single data point.\n",
        "- **Output:** Single prediction.\n",
        "- **Example:** Image classification.\n",
        "\n",
        "**Diagram:**\n",
        "\n",
        "[Input] → [NN] → [Output]\n",
        "\n",
        "---\n",
        "\n",
        "## 2. One-to-Many\n",
        "- **Description:** Single input leading to a sequence of outputs.\n",
        "- **Input:** One data point.\n",
        "- **Output:** Sequence.\n",
        "- **Example:** Music generation, image captioning.\n",
        "\n",
        "**Diagram:**\n",
        "\n",
        "[Input] → [RNN] → [Output₁ → Output₂ → Output₃ → ...]\n",
        "\n",
        "---\n",
        "\n",
        "## 3. Many-to-One\n",
        "- **Description:** Sequence of inputs results in a single output.\n",
        "- **Input:** Sequence.\n",
        "- **Output:** One data point.\n",
        "- **Example:** Sentiment analysis, spam detection.\n",
        "\n",
        "**Diagram:**\n",
        "\n",
        "[Input₁ → Input₂ → Input₃ → ...] → [RNN] → [Output]\n",
        "\n",
        "---\n",
        "\n",
        "## 4. Many-to-Many (Equal Length)\n",
        "- **Description:** Input and output are sequences of the same length.\n",
        "- **Input:** Sequence.\n",
        "- **Output:** Sequence.\n",
        "- **Example:** Part-of-speech tagging, named entity recognition.\n",
        "\n",
        "**Diagram:**\n",
        "\n",
        "[Input₁ → Input₂ → Input₃] → [RNN] → [Output₁ → Output₂ → Output₃]\n",
        "\n",
        "---\n",
        "\n",
        "## 5. Many-to-Many (Different Lengths)\n",
        "- **Description:** Sequence input and sequence output of different lengths, usually with encoder-decoder architecture.\n",
        "- **Input:** Sequence.\n",
        "- **Output:** Sequence (length may differ).\n",
        "- **Example:** Machine translation, text summarization.\n",
        "\n",
        "**Diagram:**\n",
        "\n",
        "[Encoder RNN: Input₁ → Input₂ → ...] → [Context Vector] → [Decoder RNN: Output₁ → Output₂ → ...]\n",
        "\n",
        "---\n",
        "\n",
        "## Summary Table\n",
        "\n",
        "| Architecture         | Input Type | Output Type | Applications                   |\n",
        "|----------------------|------------|-------------|--------------------------------|\n",
        "| One-to-One           | Single     | Single      | Image classification           |\n",
        "| One-to-Many          | Single     | Sequence    | Image captioning, music gen.   |\n",
        "| Many-to-One          | Sequence   | Single      | Sentiment analysis             |\n",
        "| Many-to-Many (Equal) | Sequence   | Sequence    | POS tagging, NER               |\n",
        "| Many-to-Many (Diff)  | Sequence   | Sequence    | Machine translation, chatbot   |\n",
        "\n",
        "Each type is selected based on the problem's input-output structure. Choosing the right architecture is crucial for building an effective model.\n"
      ],
      "metadata": {
        "id": "UxRviOihdnMB"
      }
    },
    {
      "cell_type": "code",
      "execution_count": 1,
      "metadata": {
        "id": "OyTuvdAPdj1z"
      },
      "outputs": [],
      "source": [
        "import numpy as np\n",
        "import matplotlib.pyplot as plt\n",
        "import tensorflow as tf\n",
        "from tensorflow.keras.models import Sequential\n",
        "from tensorflow.keras.layers import SimpleRNN, Dense, TimeDistributed, RepeatVector\n",
        "from tensorflow.keras.utils import to_categorical\n",
        "from sklearn.metrics import accuracy_score"
      ]
    },
    {
      "cell_type": "code",
      "source": [
        "np.random.seed(42)\n",
        "tf.random.set_seed(42)"
      ],
      "metadata": {
        "id": "YBmpe-uVStnu"
      },
      "execution_count": 2,
      "outputs": []
    },
    {
      "cell_type": "markdown",
      "source": [
        "# 1. One-to-One"
      ],
      "metadata": {
        "id": "yNb4OHCBSxpz"
      }
    },
    {
      "cell_type": "code",
      "source": [
        "# One-to-One: Input is a single number, output is a label\n",
        "X = np.random.rand(1000, 1)\n",
        "y = (X > 0.5).astype(int)\n",
        "\n",
        "model_1 = Sequential([\n",
        "    Dense(8, activation='relu', input_shape=(1,)),\n",
        "    Dense(1, activation='sigmoid')\n",
        "])\n",
        "model_1.compile(optimizer='adam', loss='binary_crossentropy', metrics=['accuracy'])\n",
        "history_1 = model_1.fit(X, y, epochs=10, verbose=0)\n",
        "acc_1 = history_1.history['accuracy'][-1]"
      ],
      "metadata": {
        "colab": {
          "base_uri": "https://localhost:8080/"
        },
        "id": "SEsGildJSvdy",
        "outputId": "b7bf96bc-ad17-4d70-d9de-c1650b0d11e9"
      },
      "execution_count": 3,
      "outputs": [
        {
          "output_type": "stream",
          "name": "stderr",
          "text": [
            "/usr/local/lib/python3.11/dist-packages/keras/src/layers/core/dense.py:87: UserWarning: Do not pass an `input_shape`/`input_dim` argument to a layer. When using Sequential models, prefer using an `Input(shape)` object as the first layer in the model instead.\n",
            "  super().__init__(activity_regularizer=activity_regularizer, **kwargs)\n"
          ]
        }
      ]
    },
    {
      "cell_type": "markdown",
      "source": [
        "# 2. One-to-Many"
      ],
      "metadata": {
        "id": "QmqlHqqoS4Ik"
      }
    },
    {
      "cell_type": "code",
      "source": [
        "# One-to-Many: Input a single number, output a sequence (like [x, x+1, x+2])\n",
        "X = np.random.rand(1000, 1)\n",
        "y = np.array([[[x+1], [x+2], [x+3]] for x in X[:, 0]])\n",
        "\n",
        "model_2 = Sequential([\n",
        "    Dense(8, activation='relu', input_shape=(1,)),\n",
        "    RepeatVector(3),\n",
        "    SimpleRNN(10, return_sequences=True),\n",
        "    TimeDistributed(Dense(1))\n",
        "])\n",
        "model_2.compile(optimizer='adam', loss='mse')\n",
        "history_2 = model_2.fit(X, y, epochs=10, verbose=0)\n",
        "loss_2 = history_2.history['loss'][-1]"
      ],
      "metadata": {
        "id": "tn6uxkwMSz9f"
      },
      "execution_count": 4,
      "outputs": []
    },
    {
      "cell_type": "markdown",
      "source": [
        "# 3. Many-to-One"
      ],
      "metadata": {
        "id": "DAkbYELETAFK"
      }
    },
    {
      "cell_type": "code",
      "source": [
        "# Many-to-One: Sequence input, output is sum (classification: sum > 2.5)\n",
        "X = np.random.rand(1000, 5, 1)\n",
        "y = (np.sum(X, axis=1) > 2.5).astype(int)\n",
        "\n",
        "model_3 = Sequential([\n",
        "    SimpleRNN(10, input_shape=(5, 1)),\n",
        "    Dense(1, activation='sigmoid')\n",
        "])\n",
        "model_3.compile(optimizer='adam', loss='binary_crossentropy', metrics=['accuracy'])\n",
        "history_3 = model_3.fit(X, y, epochs=10, verbose=0)\n",
        "acc_3 = history_3.history['accuracy'][-1]"
      ],
      "metadata": {
        "colab": {
          "base_uri": "https://localhost:8080/"
        },
        "id": "52krDeXlS8k3",
        "outputId": "da112cb5-08a3-46a3-9255-01c9711ca0b5"
      },
      "execution_count": 5,
      "outputs": [
        {
          "output_type": "stream",
          "name": "stderr",
          "text": [
            "/usr/local/lib/python3.11/dist-packages/keras/src/layers/rnn/rnn.py:200: UserWarning: Do not pass an `input_shape`/`input_dim` argument to a layer. When using Sequential models, prefer using an `Input(shape)` object as the first layer in the model instead.\n",
            "  super().__init__(**kwargs)\n"
          ]
        }
      ]
    },
    {
      "cell_type": "markdown",
      "source": [
        "# 4. Many-to-Many"
      ],
      "metadata": {
        "id": "K9X20NakTGTy"
      }
    },
    {
      "cell_type": "code",
      "source": [
        "# Many-to-Many: Each time step is doubled (y = 2 * x)\n",
        "X = np.random.rand(1000, 5, 1)\n",
        "y = 2 * X\n",
        "\n",
        "model_4 = Sequential([\n",
        "    SimpleRNN(10, return_sequences=True, input_shape=(5, 1)),\n",
        "    TimeDistributed(Dense(1))\n",
        "])\n",
        "model_4.compile(optimizer='adam', loss='mse')\n",
        "history_4 = model_4.fit(X, y, epochs=10, verbose=0)\n",
        "loss_4 = history_4.history['loss'][-1]"
      ],
      "metadata": {
        "id": "rnlu5knNTC-f"
      },
      "execution_count": 6,
      "outputs": []
    },
    {
      "cell_type": "markdown",
      "source": [
        "# Comparison and Plotting"
      ],
      "metadata": {
        "id": "E-T3daM_TLh3"
      }
    },
    {
      "cell_type": "code",
      "source": [
        "# Collect results\n",
        "labels = ['One-to-One (Accuracy)', 'One-to-Many (Loss)', 'Many-to-One (Accuracy)', 'Many-to-Many (Loss)']\n",
        "values = [acc_1, loss_2, acc_3, loss_4]"
      ],
      "metadata": {
        "id": "A862p8fzTIxX"
      },
      "execution_count": 7,
      "outputs": []
    },
    {
      "cell_type": "code",
      "source": [
        "# Normalize losses for plotting\n",
        "normalized_values = [acc_1, 1-loss_2, acc_3, 1-loss_4]"
      ],
      "metadata": {
        "id": "s_gQpqpETOT4"
      },
      "execution_count": 8,
      "outputs": []
    },
    {
      "cell_type": "code",
      "source": [
        "# Plot\n",
        "plt.figure(figsize=(10, 5))\n",
        "plt.bar(labels, normalized_values, color=['skyblue', 'orange', 'lightgreen', 'coral'])\n",
        "plt.ylabel('Performance (Accuracy or 1 - Loss)')\n",
        "plt.title('RNN Architecture Comparison')\n",
        "plt.xticks(rotation=15)\n",
        "plt.ylim(0, 1.1)\n",
        "plt.grid(axis='y')\n",
        "plt.show()"
      ],
      "metadata": {
        "colab": {
          "base_uri": "https://localhost:8080/",
          "height": 511
        },
        "id": "XLX0XlX_TQxq",
        "outputId": "353fe999-681b-48e9-f695-292f45a1e33e"
      },
      "execution_count": 9,
      "outputs": [
        {
          "output_type": "display_data",
          "data": {
            "text/plain": [
              "<Figure size 1000x500 with 1 Axes>"
            ],
            "image/png": "[encoded data removed]"
          },
          "metadata": {}
        }
      ]
    },
    {
      "cell_type": "code",
      "source": [],
      "metadata": {
        "id": "UEPlMDz7TTjh"
      },
      "execution_count": null,
      "outputs": []
    }
  ]
}