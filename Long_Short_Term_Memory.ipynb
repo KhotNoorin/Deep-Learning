{
  "nbformat": 4,
  "nbformat_minor": 0,
  "metadata": {
    "colab": {
      "provenance": [],
      "gpuType": "T4",
      "authorship_tag": "ABX9TyPjP1GFlggq40P7ul42syPU",
      "include_colab_link": true
    },
    "kernelspec": {
      "name": "python3",
      "display_name": "Python 3"
    },
    "language_info": {
      "name": "python"
    },
    "accelerator": "GPU"
  },
  "cells": [
    {
      "cell_type": "markdown",
      "metadata": {
        "id": "view-in-github",
        "colab_type": "text"
      },
      "source": [
        "<a href=\"https://colab.research.google.com/github/KhotNoorin/Deep-Learning/blob/main/Long_Short_Term_Memory.ipynb\" target=\"_parent\"><img src=\"https://colab.research.google.com/assets/colab-badge.svg\" alt=\"Open In Colab\"/></a>"
      ]
    },
    {
      "cell_type": "markdown",
      "source": [
        "# Long Short Term Memory:\n",
        "\n",
        "![LSTM Diagram](https://miro.medium.com/v2/resize:fit:1200/1*o9R4WZZulh7-vtfUPQsEjQ.png)\n",
        "\n",
        "\n",
        "Long Short-Term Memory (LSTM) is a type of Recurrent Neural Network (RNN) specifically designed to model temporal sequences and long-range dependencies more effectively than traditional RNNs. LSTMs address the problem of vanishing and exploding gradients during training by introducing a more complex memory cell structure.\n",
        "\n",
        "## Why LSTM?\n",
        "\n",
        "Traditional RNNs struggle to learn long-term dependencies due to gradient vanishing or exploding problems. LSTMs overcome this by allowing gradients to flow unchanged through time via gated mechanisms, thus preserving information for longer durations.\n",
        "\n",
        "## LSTM Architecture\n",
        "\n",
        "An LSTM unit consists of the following components:\n",
        "\n",
        "1. **Cell State**: Represents the internal memory that carries relevant information through time.\n",
        "2. **Forget Gate**: Decides what information to discard from the cell state.\n",
        "3. **Input Gate**: Determines what new information to add to the cell state.\n",
        "4. **Output Gate**: Controls the output based on the cell state.\n",
        "\n",
        "### LSTM Gates\n",
        "\n",
        "Each gate uses a sigmoid activation function to output values between 0 and 1, representing how much information should be allowed through.\n",
        "\n",
        "- **Forget Gate**:  \n",
        "  \n",
        "- **Input Gate**:  \n",
        "  \n",
        "- **Cell State Update**:  \n",
        "  \n",
        "- **Output Gate**:  \n",
        "\n",
        "## Applications of LSTM\n",
        "\n",
        "- Natural Language Processing (NLP)\n",
        "- Machine Translation\n",
        "- Speech Recognition\n",
        "- Time Series Forecasting\n",
        "- Text Generation\n",
        "\n",
        "## Advantages of LSTM\n",
        "\n",
        "- Better at capturing long-term dependencies\n",
        "- Can learn to forget irrelevant inputs\n",
        "- Effective for sequential and temporal data\n",
        "\n",
        "## Summary\n",
        "\n",
        "LSTMs improve upon traditional RNNs by introducing gates that regulate the flow of information. This allows the network to maintain relevant context over longer sequences, making LSTMs powerful for tasks involving time-series and sequential data.\n"
      ],
      "metadata": {
        "id": "FodmVspgWuNS"
      }
    },
    {
      "cell_type": "code",
      "execution_count": 5,
      "metadata": {
        "id": "4478DtFSWc5w"
      },
      "outputs": [],
      "source": [
        "import numpy as np\n",
        "from tensorflow.keras.models import Sequential\n",
        "from tensorflow.keras.layers import LSTM, Dense\n",
        "from sklearn.model_selection import train_test_split\n",
        "from sklearn.preprocessing import LabelEncoder\n",
        "from tensorflow.keras.utils import to_categorical"
      ]
    },
    {
      "cell_type": "code",
      "source": [
        "X = np.array([\n",
        "    [[1, 2], [2, 3], [3, 4]],\n",
        "    [[2, 3], [3, 4], [4, 5]],\n",
        "    [[10, 11], [11, 12], [12, 13]],\n",
        "    [[20, 21], [21, 22], [22, 23]]\n",
        "])"
      ],
      "metadata": {
        "id": "WvGQepLaZosU"
      },
      "execution_count": 6,
      "outputs": []
    },
    {
      "cell_type": "code",
      "source": [
        "# Labels for classification\n",
        "y = np.array(['A', 'A', 'B', 'B'])"
      ],
      "metadata": {
        "id": "AmtBOr8mZrCF"
      },
      "execution_count": 7,
      "outputs": []
    },
    {
      "cell_type": "code",
      "source": [
        "# Encode labels\n",
        "le = LabelEncoder()\n",
        "y_enc = le.fit_transform(y)\n",
        "y_cat = to_categorical(y_enc)"
      ],
      "metadata": {
        "id": "kQ7Tded1ZvyS"
      },
      "execution_count": 8,
      "outputs": []
    },
    {
      "cell_type": "code",
      "source": [
        "X_train, X_test, y_train, y_test = train_test_split(X, y_cat, test_size=0.5, random_state=42)"
      ],
      "metadata": {
        "id": "orCLkosWZx5R"
      },
      "execution_count": 9,
      "outputs": []
    },
    {
      "cell_type": "code",
      "source": [
        "# LSTM Model\n",
        "model = Sequential()\n",
        "model.add(LSTM(16, input_shape=(X.shape[1], X.shape[2]), activation='tanh'))\n",
        "model.add(Dense(2, activation='softmax'))"
      ],
      "metadata": {
        "colab": {
          "base_uri": "https://localhost:8080/"
        },
        "id": "cwF_XSTRZ1mU",
        "outputId": "7db56f0f-95df-4b99-da68-fd62c1e6aa92"
      },
      "execution_count": 10,
      "outputs": [
        {
          "output_type": "stream",
          "name": "stderr",
          "text": [
            "/usr/local/lib/python3.11/dist-packages/keras/src/layers/rnn/rnn.py:200: UserWarning: Do not pass an `input_shape`/`input_dim` argument to a layer. When using Sequential models, prefer using an `Input(shape)` object as the first layer in the model instead.\n",
            "  super().__init__(**kwargs)\n"
          ]
        }
      ]
    },
    {
      "cell_type": "code",
      "source": [
        "# Compile the model\n",
        "model.compile(optimizer='adam', loss='categorical_crossentropy', metrics=['accuracy'])"
      ],
      "metadata": {
        "id": "x2ljA628Z3oR"
      },
      "execution_count": 11,
      "outputs": []
    },
    {
      "cell_type": "code",
      "source": [
        "# Train the model\n",
        "model.fit(X_train, y_train, epochs=100, verbose=0)"
      ],
      "metadata": {
        "colab": {
          "base_uri": "https://localhost:8080/"
        },
        "id": "l3PjYICDZ5xj",
        "outputId": "c545067b-8b17-428a-a7c6-a7ff83451dad"
      },
      "execution_count": 12,
      "outputs": [
        {
          "output_type": "execute_result",
          "data": {
            "text/plain": [
              "<keras.src.callbacks.history.History at 0x78d31a8a2990>"
            ]
          },
          "metadata": {},
          "execution_count": 12
        }
      ]
    },
    {
      "cell_type": "code",
      "source": [
        "# Evaluate the model\n",
        "loss, accuracy = model.evaluate(X_test, y_test, verbose=0)\n",
        "print(f\"Test Accuracy: {accuracy * 100:.2f}%\")"
      ],
      "metadata": {
        "colab": {
          "base_uri": "https://localhost:8080/"
        },
        "id": "KK1GIzwGZ7wS",
        "outputId": "c1421dd7-c29f-49d5-f161-591786bbdb74"
      },
      "execution_count": 13,
      "outputs": [
        {
          "output_type": "stream",
          "name": "stdout",
          "text": [
            "Test Accuracy: 100.00%\n"
          ]
        }
      ]
    },
    {
      "cell_type": "code",
      "source": [
        "# Predict\n",
        "preds = model.predict(X_test)\n",
        "print(\"Predictions:\", le.inverse_transform(np.argmax(preds, axis=1)))"
      ],
      "metadata": {
        "colab": {
          "base_uri": "https://localhost:8080/"
        },
        "id": "z84zZjrCZ9pC",
        "outputId": "b415d756-8b32-4db9-d8fb-39e33f9f068e"
      },
      "execution_count": 14,
      "outputs": [
        {
          "output_type": "stream",
          "name": "stdout",
          "text": [
            "\u001b[1m1/1\u001b[0m \u001b[32m━━━━━━━━━━━━━━━━━━━━\u001b[0m\u001b[37m\u001b[0m \u001b[1m0s\u001b[0m 103ms/step\n",
            "Predictions: ['A' 'B']\n"
          ]
        }
      ]
    },
    {
      "cell_type": "markdown",
      "source": [
        "# LSTM from Scratch:"
      ],
      "metadata": {
        "id": "SCLBh42WaEah"
      }
    },
    {
      "cell_type": "code",
      "source": [
        "import numpy as np\n",
        "import matplotlib.pyplot as plt"
      ],
      "metadata": {
        "id": "DFq-TUIvaAbt"
      },
      "execution_count": 15,
      "outputs": []
    },
    {
      "cell_type": "code",
      "source": [
        "def sigmoid(x):\n",
        "    return 1 / (1 + np.exp(-x))"
      ],
      "metadata": {
        "id": "9GqnXUivaHSq"
      },
      "execution_count": 16,
      "outputs": []
    },
    {
      "cell_type": "code",
      "source": [
        "def tanh(x):\n",
        "    return np.tanh(x)"
      ],
      "metadata": {
        "id": "E2v25W12aJBq"
      },
      "execution_count": 17,
      "outputs": []
    },
    {
      "cell_type": "code",
      "source": [
        "# Generate a toy dataset\n",
        "# Input sequence: shape (sequence_length, input_dim)\n",
        "X = np.array([[0.1], [0.2], [0.3], [0.4], [0.5]])\n",
        "y = np.array([[0.2], [0.3], [0.4], [0.5], [0.6]])  # Just target = input + 0.1"
      ],
      "metadata": {
        "id": "V5Qglqt_aKvi"
      },
      "execution_count": 18,
      "outputs": []
    },
    {
      "cell_type": "code",
      "source": [
        "class LSTMCell:\n",
        "    def __init__(self, input_dim, hidden_dim):\n",
        "        self.input_dim = input_dim\n",
        "        self.hidden_dim = hidden_dim\n",
        "\n",
        "        # Initialize weights for gates\n",
        "        self.Wf = np.random.randn(hidden_dim, hidden_dim + input_dim)\n",
        "        self.bf = np.zeros((hidden_dim, 1))\n",
        "\n",
        "        self.Wi = np.random.randn(hidden_dim, hidden_dim + input_dim)\n",
        "        self.bi = np.zeros((hidden_dim, 1))\n",
        "\n",
        "        self.WC = np.random.randn(hidden_dim, hidden_dim + input_dim)\n",
        "        self.bC = np.zeros((hidden_dim, 1))\n",
        "\n",
        "        self.Wo = np.random.randn(hidden_dim, hidden_dim + input_dim)\n",
        "        self.bo = np.zeros((hidden_dim, 1))\n",
        "\n",
        "        self.Wy = np.random.randn(1, hidden_dim)  # for output\n",
        "        self.by = np.zeros((1, 1))\n",
        "\n",
        "    def forward(self, x_seq):\n",
        "        h_prev = np.zeros((self.hidden_dim, 1))\n",
        "        C_prev = np.zeros((self.hidden_dim, 1))\n",
        "\n",
        "        self.h_states = []\n",
        "        self.C_states = []\n",
        "        self.y_preds = []\n",
        "\n",
        "        for x_t in x_seq:\n",
        "            x_t = x_t.reshape(-1, 1)\n",
        "            concat = np.vstack((h_prev, x_t))\n",
        "\n",
        "            ft = sigmoid(np.dot(self.Wf, concat) + self.bf)\n",
        "            it = sigmoid(np.dot(self.Wi, concat) + self.bi)\n",
        "            Ct_tilde = tanh(np.dot(self.WC, concat) + self.bC)\n",
        "            Ct = ft * C_prev + it * Ct_tilde\n",
        "            ot = sigmoid(np.dot(self.Wo, concat) + self.bo)\n",
        "            ht = ot * tanh(Ct)\n",
        "\n",
        "            yt = np.dot(self.Wy, ht) + self.by  # output\n",
        "\n",
        "            self.h_states.append(ht)\n",
        "            self.C_states.append(Ct)\n",
        "            self.y_preds.append(yt)\n",
        "\n",
        "            h_prev = ht\n",
        "            C_prev = Ct\n",
        "\n",
        "        return self.y_preds"
      ],
      "metadata": {
        "id": "D3TsyhQyaPVb"
      },
      "execution_count": 19,
      "outputs": []
    },
    {
      "cell_type": "code",
      "source": [
        "# Create and run the LSTM\n",
        "input_dim = 1\n",
        "hidden_dim = 10\n",
        "lstm = LSTMCell(input_dim, hidden_dim)"
      ],
      "metadata": {
        "id": "lYJdm87IaVoS"
      },
      "execution_count": 20,
      "outputs": []
    },
    {
      "cell_type": "code",
      "source": [
        "preds = lstm.forward(X)"
      ],
      "metadata": {
        "id": "zsXqnwdAabfh"
      },
      "execution_count": 21,
      "outputs": []
    },
    {
      "cell_type": "code",
      "source": [
        "# Convert predictions to flat list\n",
        "preds = [p[0][0] for p in preds]"
      ],
      "metadata": {
        "id": "2hDu3G0IaX4q"
      },
      "execution_count": 22,
      "outputs": []
    },
    {
      "cell_type": "code",
      "source": [
        "# Plot predictions vs true values\n",
        "plt.plot(range(len(y)), y, label='True')\n",
        "plt.plot(range(len(preds)), preds, label='LSTM Prediction')\n",
        "plt.title('LSTM from Scratch: Predictions')\n",
        "plt.xlabel('Time Step')\n",
        "plt.ylabel('Value')\n",
        "plt.legend()\n",
        "plt.grid(True)\n",
        "plt.show()"
      ],
      "metadata": {
        "colab": {
          "base_uri": "https://localhost:8080/",
          "height": 472
        },
        "id": "5tplCCfKaedb",
        "outputId": "1e5cf619-e5e4-4d8f-a839-594f2d24b6c6"
      },
      "execution_count": 23,
      "outputs": [
        {
          "output_type": "display_data",
          "data": {
            "text/plain": [
              "<Figure size 640x480 with 1 Axes>"
            ],
            "image/png": "[encoded data removed]"
          },
          "metadata": {}
        }
      ]
    },
    {
      "cell_type": "markdown",
      "source": [
        "# LSTM is not even close to true\n",
        "Problems in the Code:\n",
        "1. No Training (No Learning/Optimization):\n",
        "\n",
        "   The current LSTM implementation only performs a forward pass using randomly initialized weights. There’s no training loop or backpropagation happening, so the model has not learned anything.\n",
        "\n",
        "2. Random Weights:\n",
        "\n",
        "   The predictions are based on random initial weights, and hence the outputs are also essentially random — that's why the orange curve is flat and doesn't follow the blue line (true values)."
      ],
      "metadata": {
        "id": "w3ryrcSNa1BB"
      }
    },
    {
      "cell_type": "code",
      "source": [
        "import numpy as np\n",
        "import matplotlib.pyplot as plt\n",
        "from tensorflow.keras.models import Sequential\n",
        "from tensorflow.keras.layers import LSTM, Dense"
      ],
      "metadata": {
        "id": "5d3Qs2Jwagly"
      },
      "execution_count": 24,
      "outputs": []
    },
    {
      "cell_type": "code",
      "source": [
        "X = np.array([[0.1], [0.2], [0.3], [0.4], [0.5]])\n",
        "y = np.array([[0.2], [0.3], [0.4], [0.5], [0.6]])"
      ],
      "metadata": {
        "id": "B6t09opHbLjT"
      },
      "execution_count": 25,
      "outputs": []
    },
    {
      "cell_type": "code",
      "source": [
        "# Reshape to 3D: (samples, timesteps, features)\n",
        "X = X.reshape((1, 5, 1))\n",
        "y = y.reshape((1, 5, 1))"
      ],
      "metadata": {
        "id": "-o7dMiIRbNMz"
      },
      "execution_count": 26,
      "outputs": []
    },
    {
      "cell_type": "code",
      "source": [
        "# Define LSTM model\n",
        "model = Sequential()\n",
        "model.add(LSTM(10, return_sequences=True, input_shape=(5, 1)))\n",
        "model.add(Dense(1))"
      ],
      "metadata": {
        "colab": {
          "base_uri": "https://localhost:8080/"
        },
        "id": "EedqERw3bPEz",
        "outputId": "96b63ca7-9161-4fc4-83d0-bac378663d29"
      },
      "execution_count": 27,
      "outputs": [
        {
          "output_type": "stream",
          "name": "stderr",
          "text": [
            "/usr/local/lib/python3.11/dist-packages/keras/src/layers/rnn/rnn.py:200: UserWarning: Do not pass an `input_shape`/`input_dim` argument to a layer. When using Sequential models, prefer using an `Input(shape)` object as the first layer in the model instead.\n",
            "  super().__init__(**kwargs)\n"
          ]
        }
      ]
    },
    {
      "cell_type": "code",
      "source": [
        "model.compile(optimizer='adam', loss='mse')\n",
        "model.fit(X, y, epochs=500, verbose=0)"
      ],
      "metadata": {
        "colab": {
          "base_uri": "https://localhost:8080/"
        },
        "id": "FgFfQXlxbQ3F",
        "outputId": "f34a86dc-51ac-4b91-c655-08bd086eeba8"
      },
      "execution_count": 28,
      "outputs": [
        {
          "output_type": "execute_result",
          "data": {
            "text/plain": [
              "<keras.src.callbacks.history.History at 0x78d331ff5c90>"
            ]
          },
          "metadata": {},
          "execution_count": 28
        }
      ]
    },
    {
      "cell_type": "code",
      "source": [
        "y_pred = model.predict(X)[0]"
      ],
      "metadata": {
        "colab": {
          "base_uri": "https://localhost:8080/"
        },
        "id": "Mw0uqEhObW0M",
        "outputId": "aac0161c-b436-400b-c49f-45296547ed04"
      },
      "execution_count": 29,
      "outputs": [
        {
          "output_type": "stream",
          "name": "stdout",
          "text": [
            "\u001b[1m1/1\u001b[0m \u001b[32m━━━━━━━━━━━━━━━━━━━━\u001b[0m\u001b[37m\u001b[0m \u001b[1m0s\u001b[0m 104ms/step\n"
          ]
        }
      ]
    },
    {
      "cell_type": "code",
      "source": [
        "plt.plot(y[0], label=\"True\")\n",
        "plt.plot(y_pred, label=\"LSTM Prediction\")\n",
        "plt.title(\"LSTM Trained Predictions\")\n",
        "plt.xlabel(\"Time Step\")\n",
        "plt.ylabel(\"Value\")\n",
        "plt.legend()\n",
        "plt.grid(True)\n",
        "plt.show()"
      ],
      "metadata": {
        "colab": {
          "base_uri": "https://localhost:8080/",
          "height": 472
        },
        "id": "rjR0Cz8qbYtc",
        "outputId": "2b5ee264-4989-4d87-b9b3-b5bd3eded2c7"
      },
      "execution_count": 30,
      "outputs": [
        {
          "output_type": "display_data",
          "data": {
            "text/plain": [
              "<Figure size 640x480 with 1 Axes>"
            ],
            "image/png": "[encoded data removed]"
          },
          "metadata": {}
        }
      ]
    },
    {
      "cell_type": "code",
      "source": [],
      "metadata": {
        "id": "btA4HaKubaec"
      },
      "execution_count": null,
      "outputs": []
    }
  ]
}